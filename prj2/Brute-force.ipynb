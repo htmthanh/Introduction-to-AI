{
 "cells": [
  {
   "cell_type": "code",
   "execution_count": 1,
   "id": "8a6bc9b4",
   "metadata": {},
   "outputs": [],
   "source": [
    "from itertools import combinations\n",
    "import time\n"
   ]
  },
  {
   "cell_type": "markdown",
   "id": "df3bdbcd",
   "metadata": {},
   "source": [
    "## read file"
   ]
  },
  {
   "cell_type": "code",
   "execution_count": 10,
   "id": "579bdf80",
   "metadata": {},
   "outputs": [],
   "source": [
    "def readFile(filename):\n",
    "    f = open(filename, 'r')\n",
    "    s = f.readline()\n",
    "    [m, n] = s.split(\" \")\n",
    "    [m, n] = [int(m), int(n)]\n",
    "\n",
    "    a = []\n",
    "    for i in range(m):\n",
    "        s = f.readline()\n",
    "        l = s.split(\" \")\n",
    "        if l[-1].count('\\n') != 0:\n",
    "            l[-1] = l[-1].strip('\\n')\n",
    "        if l.count(\"\") != 0:\n",
    "            l.remove(\"\")\n",
    "        int_map = map(int, l)\n",
    "        a.append(list(int_map))\n",
    "    f.close()\n",
    "    return [a, m, n]"
   ]
  },
  {
   "cell_type": "code",
   "execution_count": 11,
   "id": "ada6ea5a",
   "metadata": {},
   "outputs": [],
   "source": [
    "def printSolution(mark):\n",
    "    for i in range(m):\n",
    "        for j in range(n):\n",
    "            if mark[i][j] == True:\n",
    "                f.write(\"1 \")\n",
    "            else:\n",
    "                f.write(\"0 \")\n",
    "        f.write('\\n')"
   ]
  },
  {
   "cell_type": "markdown",
   "id": "850fe5f6",
   "metadata": {},
   "source": [
    "## algo"
   ]
  },
  {
   "cell_type": "code",
   "execution_count": 16,
   "id": "284889ed",
   "metadata": {},
   "outputs": [],
   "source": [
    "def BruteForce(path=[]):\n",
    "    if len(path) == len(Position):\n",
    "        for pos in path:\n",
    "            color_zone = [\n",
    "                [pos[0] + row, pos[1] + col]\n",
    "                for row in range(-1, 2)\n",
    "                for col in range(-1, 2)\n",
    "                if 0 <= pos[0] + row < nRow and 0 <= pos[1] + col < nCol\n",
    "            ]\n",
    "            count = 0\n",
    "            for color_pos in color_zone:\n",
    "                if color_matrix[color_pos[0]][color_pos[1]]:\n",
    "                    count += 1\n",
    "            if count != a[pos[0]][pos[1]]:\n",
    "                return False\n",
    "        return True\n",
    "\n",
    "    else:\n",
    "        pos = next((i for i in Position if i not in path))\n",
    "        path.append(pos)\n",
    "        color_zone = [\n",
    "            [pos[0] + row, pos[1] + col]\n",
    "            for row in range(-1, 2)\n",
    "            for col in range(-1, 2)\n",
    "            if 0 <= pos[0] + row < nRow and 0 <= pos[1] + col < nCol\n",
    "        ]\n",
    "        colored_pos = [i for i in color_zone if color_matrix[i[0]][i[1]]]  # xoa\n",
    "        count = len(colored_pos)  # xoa\n",
    "        if count == a[pos[0]][pos[1]]:  # xoa\n",
    "            if BruteForce(path):  # xoa\n",
    "                return True  # xoa\n",
    "        elif count < a[pos[0]][pos[1]]:  # xoa\n",
    "            uncolored_pos = [\n",
    "                i for i in color_zone if not color_matrix[i[0]][i[1]]\n",
    "            ]  # xoa\n",
    "            combine_zone = combinations(\n",
    "                uncolored_pos, a[pos[0]][pos[1]] - count\n",
    "            )  # thay uncolored_pos thanh color_zone\n",
    "\n",
    "            for combination in combine_zone:\n",
    "                for i in combination:\n",
    "                    color_matrix[i[0]][i[1]] = True\n",
    "                if BruteForce(path):\n",
    "                    return True\n",
    "                for i in combination:\n",
    "                    color_matrix[i[0]][i[1]] = False\n",
    "        path.pop()\n",
    "        return False\n"
   ]
  },
  {
   "cell_type": "code",
   "execution_count": null,
   "id": "2f8d6733",
   "metadata": {},
   "outputs": [],
   "source": [
    "filename = \"input4.txt\"\n",
    "[a, m, n] = readFile(filename)\n",
    "nameoutp = \"output3.txt\"\n",
    "f = open(nameoutp, 'w')\n",
    "start_time = time.time()\n",
    "nRow, nCol = m, n\n",
    "color_matrix = [[False for _ in row] for row in a]\n",
    "Position = [\n",
    "    [i, k] for i, row in enumerate(a) for k, col in enumerate(row) if col > -1\n",
    "]\n",
    "f.write(\"Use Brute-force:\\n\")\n",
    "kt = BruteForce()\n",
    "\n",
    "if kt == True:\n",
    "    printSolution(color_matrix)\n",
    "else:\n",
    "    f.write(\"NO SOLUTION\")\n",
    "end_time = time.time()\n",
    "print(\"total run-time: %f s\" % ((end_time - start_time)))\n",
    "f.close()"
   ]
  },
  {
   "cell_type": "code",
   "execution_count": null,
   "id": "f234a88b",
   "metadata": {},
   "outputs": [],
   "source": []
  },
  {
   "cell_type": "code",
   "execution_count": null,
   "id": "174eddff",
   "metadata": {},
   "outputs": [],
   "source": []
  }
 ],
 "metadata": {
  "kernelspec": {
   "display_name": "Python 3 (ipykernel)",
   "language": "python",
   "name": "python3"
  },
  "language_info": {
   "codemirror_mode": {
    "name": "ipython",
    "version": 3
   },
   "file_extension": ".py",
   "mimetype": "text/x-python",
   "name": "python",
   "nbconvert_exporter": "python",
   "pygments_lexer": "ipython3",
   "version": "3.9.7"
  }
 },
 "nbformat": 4,
 "nbformat_minor": 5
}
