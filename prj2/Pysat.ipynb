{
 "cells": [
  {
   "cell_type": "code",
   "execution_count": 2,
   "id": "8f1a7fce",
   "metadata": {},
   "outputs": [
    {
     "name": "stdout",
     "output_type": "stream",
     "text": [
      "Collecting python-sat\n",
      "  Downloading python_sat-0.1.7.dev19-cp39-cp39-win_amd64.whl (812 kB)\n",
      "Requirement already satisfied: six in c:\\users\\asus\\anaconda3\\lib\\site-packages (from python-sat) (1.16.0)\n",
      "Installing collected packages: python-sat\n",
      "Successfully installed python-sat-0.1.7.dev19\n"
     ]
    }
   ],
   "source": [
    "!pip install python-sat"
   ]
  },
  {
   "cell_type": "code",
   "execution_count": 41,
   "id": "f3fe07cd",
   "metadata": {},
   "outputs": [],
   "source": [
    "import os\n",
    "import math\n",
    "from copy import deepcopy\n",
    "import random\n",
    "import numpy as np\n",
    "from pysat.solvers import Glucose3\n",
    "import time"
   ]
  },
  {
   "cell_type": "code",
   "execution_count": 42,
   "id": "25e12751",
   "metadata": {},
   "outputs": [],
   "source": [
    "hx = [0, 1, 0, -1, -1, -1, 0, 1, 1]\n",
    "hy = [0, -1, -1, -1, 0, 1, 1, 1, 0]"
   ]
  },
  {
   "cell_type": "markdown",
   "id": "37275c0c",
   "metadata": {},
   "source": [
    "## read file"
   ]
  },
  {
   "cell_type": "code",
   "execution_count": 43,
   "id": "ab438871",
   "metadata": {},
   "outputs": [],
   "source": [
    "def readFile(filename):\n",
    "    with open (filename, 'r') as f :\n",
    "        s = f.readline()\n",
    "        [m, n] = s.split(\" \")\n",
    "        [m, n] = [int(m), int(n)]\n",
    "\n",
    "        Matrix =[]\n",
    "        line = (f.readline()).split()\n",
    "        while(line):\n",
    "            Matrix.append([int(i) for i in line])\n",
    "            line = (f.readline()).split()\n",
    "    f.close()\n",
    "    return [Matrix, m, n]\n",
    "    "
   ]
  },
  {
   "cell_type": "code",
   "execution_count": 44,
   "id": "435f736d",
   "metadata": {},
   "outputs": [],
   "source": [
    "def gen_board_num(row,col):\n",
    "    count=1\n",
    "    matrix=[]\n",
    "\n",
    "    for i in range(row):\n",
    "        tmp=[]\n",
    "        for j in range(col):\n",
    "            tmp.append(count)\n",
    "            count+=1\n",
    "        matrix.append(tmp)\n",
    "\n",
    "    return matrix"
   ]
  },
  {
   "cell_type": "markdown",
   "id": "550503ed",
   "metadata": {},
   "source": [
    "## Generate & solve CNFs"
   ]
  },
  {
   "cell_type": "code",
   "execution_count": 45,
   "id": "ace4c83b",
   "metadata": {},
   "outputs": [],
   "source": [
    "# Tap hop R1, R2\n",
    "def check_same_utility(R1,R2):\n",
    "    if len(R1) != len(R2):\n",
    "        return False\n",
    "    R1 = sorted(deepcopy(R1))\n",
    "    R2 = sorted(deepcopy(R2))\n",
    "    for i in range(len(R2)):\n",
    "        if R2[i] != R1[i]:\n",
    "            return False\n",
    "    return True"
   ]
  },
  {
   "cell_type": "code",
   "execution_count": 46,
   "id": "27b2cca8",
   "metadata": {},
   "outputs": [],
   "source": [
    "# To hop: C, Tap hop R\n",
    "def check_same(C,R):\n",
    "    if len(C) == 0 or len (R) == 0:\n",
    "        return False\n",
    "    for i in C:\n",
    "        if check_same_utility(R,i):\n",
    "            return True\n",
    "    return False"
   ]
  },
  {
   "cell_type": "code",
   "execution_count": 47,
   "id": "15762182",
   "metadata": {},
   "outputs": [],
   "source": [
    "def check_same_small(_list, num):\n",
    "    if len(_list) == 0:\n",
    "        return False\n",
    "    for i in _list:\n",
    "        if i == num:\n",
    "            return True\n",
    "    return False"
   ]
  },
  {
   "cell_type": "code",
   "execution_count": 48,
   "id": "16ef8032",
   "metadata": {},
   "outputs": [],
   "source": [
    "def get_C(adjacentList, k, loop):\n",
    "    C = []\n",
    "    for _ in range(loop):\n",
    "        tmp = []\n",
    "        for _ in range(k):\n",
    "            t = random.choice(adjacentList)\n",
    "            while check_same_small(tmp,t):\n",
    "                t = random.choice(adjacentList)\n",
    "                \n",
    "            tmp.append(t)\n",
    "        while check_same(C,tmp):\n",
    "            tmp = []\n",
    "            for _ in range(k):\n",
    "                t = random.choice(adjacentList)\n",
    "                while check_same_small(tmp, t):\n",
    "                    t = random.choice(adjacentList)\n",
    "                tmp.append(t)\n",
    "                \n",
    "        C.append(tmp)\n",
    "        \n",
    "    return C"
   ]
  },
  {
   "cell_type": "code",
   "execution_count": 49,
   "id": "2a7d70d0",
   "metadata": {},
   "outputs": [],
   "source": [
    "def get_adjacentList(i,j):\n",
    "    res=[]\n",
    "\n",
    "    if i-1 >= 0:\n",
    "        res.append(board_num[i-1][j])\n",
    "    if i+1 < len(a):\n",
    "        res.append(board_num[i+1][j])\n",
    "    if j-1 >= 0:\n",
    "        res.append(board_num[i][j-1])\n",
    "    if j+1 < len(a[0]):\n",
    "        res.append(board_num[i][j+1])\n",
    "    if i-1 >= 0 and j-1 >= 0:\n",
    "        res.append(board_num[i-1][j-1])\n",
    "    if i-1 >= 0 and j+1 < len(a[0]):\n",
    "        res.append(board_num[i-1][j+1])\n",
    "    if i+1 < len(a) and j-1 >= 0:\n",
    "        res.append(board_num[i+1][j-1])\n",
    "    if i+1 < len(a) and j+1 < len(a[0]):\n",
    "        res.append(board_num[i+1][j+1])\n",
    "    \n",
    "    return res\n"
   ]
  },
  {
   "cell_type": "code",
   "execution_count": 55,
   "id": "9b78a765",
   "metadata": {},
   "outputs": [],
   "source": [
    "def get_clauses(i, j):\n",
    "    cell=board_num[i][j]\n",
    "    adjacent_list=get_adjacentList(i,j)\n",
    "    n=len(adjacent_list)\n",
    "    k=a[i][j]\n",
    "    \n",
    "    clauses=[]\n",
    "    # blue\n",
    "    if k > 0 and (k <= n or (k-n) == 1):\n",
    "        if k == 1:\n",
    "            for e in adjacent_list:\n",
    "                clauses.append([-cell,-e])\n",
    "            tmp=deepcopy(adjacent_list)\n",
    "            tmp.append(cell)\n",
    "            clauses.append(tmp)\n",
    "        else:\n",
    "            loop_times=int(math.factorial(n)/(math.factorial(k-1)*math.factorial(n-k+1)))\n",
    "            \n",
    "            C=get_C(adjacent_list,k-1,loop_times)\n",
    "\n",
    "            for R in C:\n",
    "                # forward\n",
    "                remain=[]\n",
    "                for e in adjacent_list:\n",
    "                    if not e in R:\n",
    "                        remain.append(e)\n",
    "                tmp=[]\n",
    "                tmp.append(-cell)\n",
    "                for m in R:\n",
    "                    tmp.append(-m)\n",
    "                for e in remain:\n",
    "                    tmp_=deepcopy(tmp)\n",
    "                    tmp_.append(-e)\n",
    "                    clauses.append(tmp_)\n",
    "                # reverse\n",
    "                tmp_=deepcopy(remain)\n",
    "                tmp_.append(cell)\n",
    "                clauses.append(tmp_)\n",
    "\n",
    "                for m in R:\n",
    "                    tmp_=deepcopy(remain)\n",
    "                    tmp_.append(m)\n",
    "                    clauses.append(tmp_)\n",
    "\n",
    "    #  red\n",
    "    if k <= n:\n",
    "        if k == 0:\n",
    "            clauses.append([-cell])\n",
    "            for e in adjacent_list:\n",
    "                clauses.append([-e])\n",
    "        else:  \n",
    "            loop_times=int(math.factorial(n)/(math.factorial(k)*math.factorial(n-k)))\n",
    "            C=get_C(adjacent_list, k,loop_times)\n",
    "            for R in C:\n",
    "                # forward\n",
    "                remain=[]\n",
    "                for e in adjacent_list:\n",
    "                    if not e in R:\n",
    "                        remain.append(e)\n",
    "                tmp=[]\n",
    "                for m in R:\n",
    "                    tmp.append(-m)\n",
    "                tmp_=deepcopy(tmp)\n",
    "                tmp_.append(-cell)\n",
    "                clauses.append(tmp_)\n",
    "\n",
    "                for e in remain:\n",
    "                    tmp_=deepcopy(tmp)\n",
    "                    tmp_.append(-e)\n",
    "                    clauses.append(tmp_)\n",
    "                # reverse\n",
    "                tmp_=deepcopy(remain)\n",
    "                tmp_.append(cell)\n",
    "                \n",
    "\n",
    "                for m in R:\n",
    "                    tmp__=deepcopy(tmp_)\n",
    "                    tmp__.append(m)\n",
    "                    clauses.append(tmp__)\n",
    "\n",
    "    return clauses"
   ]
  },
  {
   "cell_type": "markdown",
   "id": "abf41279",
   "metadata": {},
   "source": [
    "## Use Pysat"
   ]
  },
  {
   "cell_type": "code",
   "execution_count": 56,
   "id": "ea9e7c2d",
   "metadata": {},
   "outputs": [],
   "source": [
    "import csv"
   ]
  },
  {
   "cell_type": "code",
   "execution_count": 57,
   "id": "52b8365c",
   "metadata": {},
   "outputs": [
    {
     "name": "stdout",
     "output_type": "stream",
     "text": [
      "--------------------------------\n"
     ]
    }
   ],
   "source": [
    "nameinp = \"input3.txt\"\n",
    "nameoutp = \"output.txt\"\n",
    "f = open(nameoutp, 'w')\n",
    "[a, m, n] = readFile(nameinp)\n",
    "color = []\n",
    "for i in range(m):\n",
    "    li = []\n",
    "    for j in range(n):\n",
    "        li.append(True)\n",
    "    color.append(li)\n",
    "\n",
    "print(\"--------------------------------\")\n",
    "board_num=gen_board_num(m, n)\n",
    "clauses=[]\n",
    "for i in range(len(a)):\n",
    "    for j in range(len(a[0])):\n",
    "        if a[i][j] > -1:\n",
    "            clauses+=get_clauses(i,j)\n",
    "# print(\"Number of CNFs generated: \", len(clauses))\n",
    "f.write(\"Number of CNFs generated: \")\n",
    "f.write(str(len(clauses)))\n",
    "f.write('\\n')\n",
    "\n",
    "g = Glucose3()\n",
    "for it in clauses:\n",
    "    g.add_clause([int(k) for k in it])\n",
    "\n",
    "\n",
    "f.write(\"\\nUse pysat:\\n\")\n",
    "kt = g.solve()\n",
    "model = g.get_model()\n",
    "if kt == True:\n",
    "    # print(model)\n",
    "    c = 0\n",
    "    for i in range(m):\n",
    "        for j in range(n):\n",
    "            if model[c] > 0:\n",
    "                f.write(\"1 \")\n",
    "            else:\n",
    "                f.write(\"0 \")\n",
    "            c = c + 1\n",
    "        f.write('\\n')\n",
    "else:\n",
    "    f.write(\"NO SOLUTION\\n\")\n",
    "    # print(model)\n",
    "\n"
   ]
  },
  {
   "cell_type": "code",
   "execution_count": null,
   "id": "65c9a3ff",
   "metadata": {},
   "outputs": [],
   "source": []
  },
  {
   "cell_type": "code",
   "execution_count": null,
   "id": "f8e537c2",
   "metadata": {},
   "outputs": [],
   "source": []
  },
  {
   "cell_type": "code",
   "execution_count": null,
   "id": "41eb887f",
   "metadata": {},
   "outputs": [],
   "source": []
  }
 ],
 "metadata": {
  "kernelspec": {
   "display_name": "Python 3 (ipykernel)",
   "language": "python",
   "name": "python3"
  },
  "language_info": {
   "codemirror_mode": {
    "name": "ipython",
    "version": 3
   },
   "file_extension": ".py",
   "mimetype": "text/x-python",
   "name": "python",
   "nbconvert_exporter": "python",
   "pygments_lexer": "ipython3",
   "version": "3.9.7"
  }
 },
 "nbformat": 4,
 "nbformat_minor": 5
}
