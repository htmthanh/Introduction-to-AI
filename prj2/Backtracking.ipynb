{
 "cells": [
  {
   "cell_type": "code",
   "execution_count": 1,
   "id": "d9840772",
   "metadata": {},
   "outputs": [],
   "source": [
    "import os\n",
    "import math\n",
    "from copy import deepcopy\n",
    "import random\n",
    "import time"
   ]
  },
  {
   "cell_type": "code",
   "execution_count": 2,
   "id": "2e721f7f",
   "metadata": {},
   "outputs": [],
   "source": [
    "hx = [0, 1, 0, -1, -1, -1, 0, 1, 1]\n",
    "hy = [0, -1, -1, -1, 0, 1, 1, 1, 0]\n"
   ]
  },
  {
   "cell_type": "markdown",
   "id": "c4e530c6",
   "metadata": {},
   "source": [
    "## read file"
   ]
  },
  {
   "cell_type": "code",
   "execution_count": 20,
   "id": "9e7fa39a",
   "metadata": {},
   "outputs": [],
   "source": [
    "def readFile(filename):\n",
    "    with open (filename, 'r') as f :\n",
    "        s = f.readline()\n",
    "        [m, n] = s.split(\" \")\n",
    "        [m, n] = [int(m), int(n)]\n",
    "\n",
    "        Matrix =[]\n",
    "        line = (f.readline()).split()\n",
    "        while(line):\n",
    "            Matrix.append([int(i) for i in line])\n",
    "            line = (f.readline()).split()\n",
    "    f.close()\n",
    "    return [Matrix, m, n]\n",
    "    "
   ]
  },
  {
   "cell_type": "code",
   "execution_count": 21,
   "id": "845b8874",
   "metadata": {},
   "outputs": [],
   "source": [
    "def count_True_cell(clause, x, y):                    #Dem so o BLUE xung quang o(x,y)\n",
    "    count = 0\n",
    "    for k in range(9):\n",
    "        tx = hx[k] + x\n",
    "        ty = hy[k] + y\n",
    "        if tx >= 0 and ty >= 0 and tx < m and ty < n:\n",
    "            if clause[tx][ty] == True:\n",
    "                count = count + 1\n",
    "\n",
    "    return count\n"
   ]
  },
  {
   "cell_type": "code",
   "execution_count": 22,
   "id": "b41eac6e",
   "metadata": {},
   "outputs": [],
   "source": [
    "def printSolution(mark):\n",
    "    for i in range(m):\n",
    "        for j in range(n):\n",
    "            if mark[i][j] == True:\n",
    "                f.write(\"1 \")\n",
    "            else:\n",
    "                f.write(\"0 \")\n",
    "        f.write('\\n')"
   ]
  },
  {
   "cell_type": "code",
   "execution_count": 23,
   "id": "4aba9007",
   "metadata": {},
   "outputs": [],
   "source": [
    "def Accomplished(brd, cl):            #Kiem tra xem ket qua dung chua?\n",
    "    for i in range(m):\n",
    "        for j in range(n):\n",
    "            if brd[i][j] != -1:\n",
    "                count = count_True_cell(cl, i, j)\n",
    "                if (count != brd[i][j]):\n",
    "                    return False\n",
    "    return True\n"
   ]
  },
  {
   "cell_type": "code",
   "execution_count": 24,
   "id": "1723b472",
   "metadata": {},
   "outputs": [],
   "source": [
    "def isColoring(x, y, cl):        #Kiem tra xem o (x, y) to mau duoc hay khong?\n",
    "    for k in range(9):\n",
    "        tx = hx[k] + x\n",
    "        ty = hy[k] + y\n",
    "        if (tx >= 0) and (ty >= 0) and (tx < m) and (ty < n) and (a[tx][ty] != -1):\n",
    "            t = count_True_cell(cl,tx, ty)\n",
    "            if t >= a[tx][ty]:\n",
    "                return False\n",
    "    return True"
   ]
  },
  {
   "cell_type": "code",
   "execution_count": 25,
   "id": "bda9b5bd",
   "metadata": {},
   "outputs": [],
   "source": [
    "def backtracking_solve(x, y, result):               #Ham backtracking tu vi tri (x, y) trong matrix a(mxn), bang to mau mark(mxn)\n",
    "    cur_time = time.time()\n",
    "    total_time = (cur_time - start_time)/60\n",
    "    if total_time > 10:\n",
    "        result[0] = -1\n",
    "        return\n",
    "    if (Accomplished(a, mark) == False) and result[0] == 0:\n",
    "        for k in range(9):\n",
    "            tx = hx[k] + x\n",
    "            ty = hy[k] + y\n",
    "            if ((result[0] == 0) and (tx >= 0) and (ty >= 0) and (tx < m) and (ty < n) and (mark[tx][ty] == False)):\n",
    "                if isColoring(tx, ty, mark) == True:\n",
    "                    mark[tx][ty] = True\n",
    "                    if Accomplished(a, mark) == True:\n",
    "                        result[0] = 1\n",
    "                        return\n",
    "                    backtracking_solve(tx, ty, result)\n",
    "                    if result[0] == 0:\n",
    "                        mark[tx][ty] = False\n",
    "                    else:\n",
    "                        break\n",
    "    else:\n",
    "        if (Accomplished(a, mark) == True):\n",
    "            result[0] = 1\n",
    "            return"
   ]
  },
  {
   "cell_type": "code",
   "execution_count": 26,
   "id": "fbde7ded",
   "metadata": {},
   "outputs": [
    {
     "name": "stdout",
     "output_type": "stream",
     "text": [
      "--------------------------------\n",
      "> 10 minutes.\n",
      "total run-time: 600.000273 s\n",
      "--------------------------------\n"
     ]
    }
   ],
   "source": [
    "filename = \"input3.txt\"\n",
    "[a, m, n] = readFile(filename)\n",
    "nameoutp = \"output4.txt\"\n",
    "f = open(nameoutp, 'w')\n",
    "mark = []\n",
    "for i in range(m):\n",
    "    l = []\n",
    "    for j in range(n):\n",
    "        l.append(False)\n",
    "    mark.append(l)\n",
    "print(\"--------------------------------\")\n",
    "\n",
    "kt = True\n",
    "result = [0]\n",
    "f.write(\"Use backtracking:\\n\")\n",
    "start_time = time.time()\n",
    "for i in range(m):\n",
    "    if result[0] == -1:\n",
    "        f.write(\"> 10 minutes\")\n",
    "        print(\"> 10 minutes.\")\n",
    "        kt = False\n",
    "        break\n",
    "    if kt == False:\n",
    "        break\n",
    "    for j in range(n):\n",
    "        if result[0] == -1:\n",
    "            break\n",
    "        if kt == True:\n",
    "            if (a[i][j] != -1) and (count_True_cell(mark,i, j) < a[i][j]) and (mark[i][j] == False):\n",
    "                backtracking_solve(i, j, result)\n",
    "                if result[0] == 1:\n",
    "                    kt = False\n",
    "                    printSolution(mark)\n",
    "                    break\n",
    "        else:\n",
    "            break\n",
    "\n",
    "end_time = time.time()\n",
    "print(\"total run-time: %f s\" % ((end_time - start_time)))\n",
    "if (kt == True):\n",
    "    f.write(\"NO SOLUTION\")\n",
    "\n",
    "print(\"--------------------------------\")\n",
    "f.close()"
   ]
  },
  {
   "cell_type": "code",
   "execution_count": null,
   "id": "348d25c1",
   "metadata": {},
   "outputs": [],
   "source": []
  }
 ],
 "metadata": {
  "kernelspec": {
   "display_name": "Python 3 (ipykernel)",
   "language": "python",
   "name": "python3"
  },
  "language_info": {
   "codemirror_mode": {
    "name": "ipython",
    "version": 3
   },
   "file_extension": ".py",
   "mimetype": "text/x-python",
   "name": "python",
   "nbconvert_exporter": "python",
   "pygments_lexer": "ipython3",
   "version": "3.9.7"
  }
 },
 "nbformat": 4,
 "nbformat_minor": 5
}
